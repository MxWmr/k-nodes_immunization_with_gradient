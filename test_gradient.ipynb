{
 "cells": [
  {
   "cell_type": "code",
   "execution_count": 1,
   "metadata": {},
   "outputs": [],
   "source": [
    "import networkx as nx\n",
    "import retworkx as rx\n",
    "import matplotlib.pyplot as plt\n",
    "import random as rd\n",
    "from conjugate_gradient import conjugate_gradient_opt,conjugate_gradient_back\n",
    "import sys\n",
    "sys.path.append('\\graph_immunization')\n",
    "from network_generation import *\n",
    "from vulnerability_meas import max_ev\n",
    "import numpy as np\n",
    "from tqdm import tqdm\n"
   ]
  },
  {
   "cell_type": "code",
   "execution_count": null,
   "metadata": {},
   "outputs": [],
   "source": [
    "def simu(G):\n",
    "    R_last=0\n",
    "    for j in range(50):\n",
    "        infected = rd.sample(G.nodes,10)\n",
    "        t, S, I, R = EoN.fast_SIR(G, 0.6, 1,\n",
    "                            initial_infecteds = infected)\n",
    "        R_last+=R[-1]\n",
    "\n",
    "    return R_last/(S[0]+len(infected))/50"
   ]
  },
  {
   "cell_type": "code",
   "execution_count": 8,
   "metadata": {},
   "outputs": [
    {
     "ename": "KeyboardInterrupt",
     "evalue": "",
     "output_type": "error",
     "traceback": [
      "\u001b[1;31m---------------------------------------------------------------------------\u001b[0m",
      "\u001b[1;31mKeyboardInterrupt\u001b[0m                         Traceback (most recent call last)",
      "\u001b[1;32mwemaerem$\\graph_immunization\\gradient_optimization\\test_gradient.ipynb Cell 3'\u001b[0m in \u001b[0;36m<cell line: 1>\u001b[1;34m()\u001b[0m\n\u001b[1;32m----> <a href='vscode-notebook-cell://home/wemaerem%24/graph_immunization/gradient_optimization/test_gradient.ipynb#ch0000002?line=0'>1</a>\u001b[0m vaccinated \u001b[39m=\u001b[39m conjugate_gradient_opt(G,N,exact\u001b[39m=\u001b[39;49m\u001b[39mFalse\u001b[39;49;00m)\n",
      "File \u001b[1;32m\\\\home\\wemaerem$\\graph_immunization\\gradient_optimization\\conjugate_gradient.py:68\u001b[0m, in \u001b[0;36mconjugate_gradient_opt\u001b[1;34m(G, N, exact)\u001b[0m\n\u001b[0;32m     <a href='file://home/wemaerem%24/graph_immunization/gradient_optimization/conjugate_gradient.py?line=65'>66</a>\u001b[0m     grad \u001b[39m=\u001b[39m np\u001b[39m.\u001b[39mzeros([N])\n\u001b[0;32m     <a href='file://home/wemaerem%24/graph_immunization/gradient_optimization/conjugate_gradient.py?line=66'>67</a>\u001b[0m     \u001b[39mfor\u001b[39;00m t \u001b[39min\u001b[39;00m \u001b[39mrange\u001b[39m(\u001b[39m10\u001b[39m):\n\u001b[1;32m---> <a href='file://home/wemaerem%24/graph_immunization/gradient_optimization/conjugate_gradient.py?line=67'>68</a>\u001b[0m         grad \u001b[39m+\u001b[39m\u001b[39m=\u001b[39m grad_comput(A,eta)\n\u001b[0;32m     <a href='file://home/wemaerem%24/graph_immunization/gradient_optimization/conjugate_gradient.py?line=68'>69</a>\u001b[0m     grad\u001b[39m/\u001b[39m\u001b[39m=\u001b[39m\u001b[39m10\u001b[39m\n\u001b[0;32m     <a href='file://home/wemaerem%24/graph_immunization/gradient_optimization/conjugate_gradient.py?line=69'>70</a>\u001b[0m \u001b[39melse\u001b[39;00m:\n",
      "File \u001b[1;32m\\\\home\\wemaerem$\\graph_immunization\\gradient_optimization\\conjugate_gradient.py:43\u001b[0m, in \u001b[0;36mgrad_comput\u001b[1;34m(A, eta)\u001b[0m\n\u001b[0;32m     <a href='file://home/wemaerem%24/graph_immunization/gradient_optimization/conjugate_gradient.py?line=41'>42</a>\u001b[0m \u001b[39mdef\u001b[39;00m \u001b[39mgrad_comput\u001b[39m(A,eta):\n\u001b[1;32m---> <a href='file://home/wemaerem%24/graph_immunization/gradient_optimization/conjugate_gradient.py?line=42'>43</a>\u001b[0m     B \u001b[39m=\u001b[39m np\u001b[39m.\u001b[39;49mdot(A,np\u001b[39m.\u001b[39;49mdiag(eta))\n\u001b[0;32m     <a href='file://home/wemaerem%24/graph_immunization/gradient_optimization/conjugate_gradient.py?line=43'>44</a>\u001b[0m     psi,phi \u001b[39m=\u001b[39m power_iteration(B)\n\u001b[0;32m     <a href='file://home/wemaerem%24/graph_immunization/gradient_optimization/conjugate_gradient.py?line=44'>45</a>\u001b[0m     \u001b[39mreturn\u001b[39;00m np\u001b[39m.\u001b[39mdot(np\u001b[39m.\u001b[39mdiag(phi),np\u001b[39m.\u001b[39mdot(A\u001b[39m.\u001b[39mT,psi))\n",
      "File \u001b[1;32m<__array_function__ internals>:180\u001b[0m, in \u001b[0;36mdot\u001b[1;34m(*args, **kwargs)\u001b[0m\n",
      "\u001b[1;31mKeyboardInterrupt\u001b[0m: "
     ]
    }
   ],
   "source": [
    "N = 1000\n",
    "G  = small_world(N)\n",
    "#G = config_model(1000)"
   ]
  },
  {
   "cell_type": "code",
   "execution_count": 3,
   "metadata": {},
   "outputs": [
    {
     "name": "stderr",
     "output_type": "stream",
     "text": [
      " 63%|██████▎   | 632/1000 [03:05<02:18,  2.66it/s]\\\\home\\wemaerem$\\graph_immunization\\gradient_optimization\\conjugate_gradient.py:30: RuntimeWarning: divide by zero encountered in true_divide\n",
      "  return b_k,np.where(b_k!=0.,1/b_k/1000,0)\n",
      " 81%|████████  | 808/1000 [04:24<01:24,  2.27it/s]\\\\home\\wemaerem$\\graph_immunization\\gradient_optimization\\conjugate_gradient.py:30: RuntimeWarning: overflow encountered in true_divide\n",
      "  return b_k,np.where(b_k!=0.,1/b_k/1000,0)\n",
      "100%|██████████| 1000/1000 [1:09:28<00:00,  4.17s/it]\n"
     ]
    }
   ],
   "source": [
    "vaccinated = conjugate_gradient_opt(G,N,exact=False)"
   ]
  },
  {
   "cell_type": "code",
   "execution_count": 4,
   "metadata": {},
   "outputs": [
    {
     "name": "stdout",
     "output_type": "stream",
     "text": [
      "[620, 123, 110, 890, 459, 882, 341, 102, 531, 962, 732, 711, 972, 718, 612, 28, 224, 475, 944, 446, 436, 150, 131, 953, 453, 290, 726, 738, 606, 117, 915, 307, 704, 363, 350, 11, 669, 897, 694, 598, 876, 559, 335, 979, 552, 578, 935, 999, 468, 430, 989, 481, 171, 298, 592, 357, 907, 36, 231, 162, 215, 688, 18, 675, 835, 651, 537, 662, 43, 156, 314, 870, 571, 492, 640, 626, 929, 922, 57, 565, 79, 205, 585, 783, 198, 190, 63, 72, 50, 498, 177, 862, 423, 139, 96, 774, 183, 808, 86, 793, 802, 5, 682, 415, 329, 408, 632, 744, 544, 824, 320, 283, 841, 818, 371, 237, 767, 847, 757, 750, 856, 516, 525, 510, 504, 400, 243, 393, 387, 381, 276, 250, 259, 265, 903, 604, 698, 306, 909, 424, 22, 889, 543, 832, 522, 643, 656, 170, 649, 815, 474, 896, 945, 447, 591, 954, 982, 138, 222, 92, 104, 164, 965, 149, 717, 619, 66, 12, 466, 996, 111, 349, 274, 460, 374, 490, 85, 781, 787, 29, 773, 923, 417, 853, 380, 326, 213, 484, 266, 356, 938, 725, 764, 289, 197, 189, 799, 258, 365, 282, 78, 297, 613, 751, 809, 244, 572, 633, 394, 251, 676, 401, 129, 118, 916, 2, 158, 735, 435, 551, 557, 176, 343, 336, 869, 975, 563, 790, 103, 995, 206, 605, 225, 579, 830, 821, 888, 146, 30, 69, 880, 59, 863, 315, 304, 710, 719, 775, 642, 840, 670, 664, 683, 409, 416, 599, 691, 497, 235, 523, 44, 364, 765, 759, 517, 655, 184, 140, 511, 267, 569, 983, 505, 257, 952, 966, 807, 391, 737, 332, 454, 441, 321, 56, 382, 782, 221, 467, 745, 925, 917, 910, 939, 461, 992, 628, 407, 550, 292, 132, 431, 125, 618, 871, 191, 532, 95, 15, 583, 855, 838, 152, 797, 483, 212, 932, 594, 689, 199, 473, 8, 342, 846, 831, 766, 40, 708, 373, 23, 635, 645, 499, 960, 252, 47, 309, 67, 234, 445, 73, 823, 813, 805, 679, 701, 611, 861, 160, 884, 273, 432, 556, 542, 327, 564, 168, 577, 908, 990, 116, 877, 399, 731, 743, 489, 414, 426, 33, 200, 192, 126, 667, 284, 788, 848, 20, 981, 946, 88, 148, 586, 795, 967, 389, 334, 661, 898, 496, 709, 245, 653, 753, 296, 181, 9, 94, 926, 530, 351, 438, 690, 207, 593, 65, 883, 918, 366, 229, 236, 3, 780, 48, 760, 625, 452, 822, 674, 42, 316, 175, 76, 188, 105, 458, 703, 87, 167, 973, 14, 864, 477, 724, 566, 136, 142, 928, 21, 668, 538, 518, 639, 545, 324, 849, 905, 291, 560, 58, 281, 697, 956, 715, 506, 681, 842, 607, 524, 275, 388, 462, 486, 948, 600, 874, 919, 433, 375, 993, 52, 358, 985, 313, 754, 575, 219, 34, 733, 444, 154, 80, 887, 634, 555, 398, 789, 305, 228, 425, 239, 97, 109, 264, 352, 367, 512, 768, 617, 933, 119, 647, 344, 964, 451, 828, 576, 796, 816, 182, 906, 75, 587, 410, 98, 271, 249, 322, 854, 895, 32, 947, 696, 839, 885, 980, 476, 106, 165, 987, 624, 360, 328, 540, 806, 761, 256, 46, 6, 209, 503, 514, 548, 739, 529, 958, 941, 641, 403, 659, 300, 875, 418, 82, 127, 772, 379, 865, 157, 749, 469, 568, 395, 970, 705, 147, 338, 285, 580, 38, 203, 677, 218, 178, 716, 456, 665, 482, 137, 49, 439, 194, 238, 27, 112, 412, 210, 687, 706, 597, 386, 120, 727, 778, 650, 405, 62, 758, 268, 803, 872, 226, 904, 41, 912, 491, 627, 91, 536, 834, 971, 934, 636, 246, 419, 950, 372, 359, 673, 74, 353, 31, 17, 812, 61, 174, 428, 998, 684, 860, 526, 891, 752, 589, 549, 133, 519, 348, 779, 463, 630, 216, 312, 51, 763, 377, 159, 940, 397, 657, 723, 671, 339, 262, 961, 771, 45, 949, 299, 455, 991, 141, 610, 829, 742, 978, 84, 277, 318, 437, 68, 93, 113, 121, 573, 35, 734, 427, 77, 666, 443, 457, 547, 558, 902, 333, 240, 678, 804, 581, 914, 310, 984, 720, 513, 644, 346, 957, 337, 135, 464, 480, 128, 24, 700, 422, 814, 769, 16, 616, 287, 255, 270, 107, 114, 472, 997, 488, 637, 317, 53, 227, 535, 878, 646, 196, 951, 100, 70, 988, 755, 217, 434, 845, 629, 866, 977, 420, 155, 798, 843, 924, 507, 169, 562, 658, 588, 330, 736, 894, 383, 714, 603, 495, 202, 411, 857, 143, 791, 528, 931, 406, 4, 230, 185, 368, 712, 695, 293, 623, 301, 280, 825, 994, 686, 553, 833, 166, 901, 515, 974, 728, 817, 963, 784, 746, 501, 263, 449, 850, 378, 921, 660, 590, 208, 242, 269, 60, 546, 308, 173, 396, 390, 440, 331, 539, 942, 609, 601, 253, 762, 707, 465, 429, 648, 886, 340, 13, 574, 323, 868, 680, 900, 99, 520, 740, 561, 124, 893, 25, 354, 347, 130, 652, 777, 955, 837, 881, 37, 534, 448, 785, 479, 163, 220, 187, 384, 969, 702, 485, 260, 663, 471, 622, 811, 81, 911, 153, 247, 584, 509, 7, 615, 747, 930, 567, 145, 90, 0, 278, 303, 596, 404, 693, 295, 721, 729, 214, 54, 26, 288, 968, 500, 233, 638, 937, 1, 108, 201, 195, 64, 421, 986, 858, 19, 161, 385, 672, 851, 232, 582, 631, 179, 83, 211, 859, 493, 193, 254, 302, 478, 487, 527, 614, 621, 730, 370, 122, 286, 413, 554, 595, 361, 172, 241, 279, 450, 470, 959, 800, 39, 345, 442, 521, 699, 722, 879, 794, 10, 101, 180, 186, 248, 294, 362, 654, 741, 748, 786, 801, 844, 927, 820, 55, 134, 151, 223, 261, 325, 355, 369, 392, 502, 533, 570, 685, 692, 713, 756, 770, 810, 899, 826, 71, 89, 115, 144, 204, 272, 311, 319, 376, 402, 494, 508, 541, 602, 608, 776, 792, 819, 827, 836, 852, 867, 873, 892, 913, 920, 936, 943, 976]\n"
     ]
    }
   ],
   "source": [
    "print(vaccinated)"
   ]
  },
  {
   "cell_type": "code",
   "execution_count": 11,
   "metadata": {},
   "outputs": [
    {
     "name": "stdout",
     "output_type": "stream",
     "text": [
      "[65, 565, 674, 727, 388, 461, 713, 373, 549, 703, 408, 720, 59, 12, 288, 366, 668, 379, 397, 972, 204, 885, 445, 186, 686, 654, 295, 597, 72, 90, 920, 931, 97, 304, 872, 83, 134, 963, 645, 897, 152, 414, 329, 311, 266, 853, 281, 662, 250, 607, 578, 878, 557, 195, 321, 733, 863, 841, 53, 180, 110, 274, 104, 847, 256, 680, 338, 891, 360, 47, 36, 171, 422, 938, 143, 742, 123, 985, 978, 116, 830, 29, 243, 159, 353, 992, 467, 346, 692, 19, 748, 638, 616, 630, 543, 572, 623, 236, 906, 438, 2, 428, 913, 454, 165, 823, 210, 754, 514, 502, 508, 522, 528, 534, 493, 815, 804, 797, 229, 476, 483, 217, 223, 589, 944, 951, 957, 791, 760, 766, 785, 777, 172, 287, 710, 469, 631, 77, 860, 406, 189, 398, 822, 834, 899, 319, 610, 386, 149, 979, 651, 11, 735, 202, 313, 644, 695, 39, 432, 579, 211, 141, 540, 550, 96, 447, 131, 258, 268, 415, 995, 559, 305, 20, 769, 969, 46, 702, 783, 331, 339, 595, 492, 921, 122, 482, 89, 726, 719, 932, 950, 854, 879, 661, 345, 244, 840, 453, 907, 158, 601, 179, 500, 516, 775, 103, 5, 811, 252, 828, 439, 637, 986, 235, 506, 296, 151, 30, 187, 166, 711, 387, 197, 58, 429, 569, 684, 585, 624, 75, 68, 767, 741, 867, 325, 277, 914, 923, 52, 380, 352, 365, 652, 337, 486, 494, 670, 38, 135, 302, 359, 371, 970, 124, 532, 523, 260, 994, 941, 23, 893, 475, 463, 747, 676, 142, 790, 808, 421, 556, 694, 704, 608, 615, 799, 776, 82, 929, 563, 961, 395, 267, 821, 317, 219, 850, 761, 1, 948, 227, 935, 67, 95, 842, 241, 594, 600, 869, 181, 293, 538, 877, 111, 663, 420, 198, 413, 835, 625, 884, 636, 173, 575, 372, 954, 519, 130, 784, 332, 286, 150, 544, 814, 807, 993, 900, 859, 404, 32, 40, 712, 474, 440, 753, 592, 465, 102, 280, 209, 669, 679, 26, 61, 849, 618, 843, 892, 981, 234, 10, 529, 960, 650, 323, 458, 449, 117, 17, 73, 718, 354, 501, 309, 488, 910, 586, 973, 362, 551, 412, 405, 216, 507, 942, 48, 163, 898, 805, 831, 683, 347, 8, 272, 866, 157, 967, 732, 926, 750, 81, 435, 441, 564, 263, 778, 299, 307, 132, 381, 873, 468, 222, 536, 125, 705, 391, 762, 237, 671, 987, 196, 693, 257, 858, 515, 451, 740, 542, 838, 646, 816, 203, 798, 55, 92, 824, 724, 717, 570, 251, 525, 136, 916, 230, 495, 278, 364, 558, 609, 105, 478, 464, 193, 98, 765, 922, 213, 657, 933, 175, 577, 355, 617, 112, 999, 832, 121, 444, 484, 632, 756, 962, 340, 389, 294, 148, 164, 584, 245, 687, 330, 789, 976, 886, 734, 675, 156, 856, 238, 49, 602, 378, 904, 591, 552, 817, 749, 426, 699, 396, 513, 768, 324, 796, 433, 226, 958, 653, 984, 87, 265, 691, 370, 643, 786, 25, 499, 546, 358, 315, 31, 232, 590, 459, 74, 348, 106, 936, 919, 677, 402, 419, 947, 894, 553, 659, 220, 526, 185, 622, 491, 114, 18, 541, 865, 568, 560, 7, 60, 273, 698, 169, 407, 80, 300, 953, 977, 259, 138, 759, 583, 851, 779, 452, 871, 279, 93, 322, 485, 385, 471, 813, 803, 0, 349, 100, 178, 709, 664, 562, 369, 925, 908, 377, 743, 427, 535, 887, 41, 728, 253, 285, 66, 576, 191, 547, 177, 79, 934, 201, 477, 446, 436, 606, 86, 880, 144, 133, 9, 308, 640, 393, 361, 736, 697, 770, 901, 24, 792, 561, 457, 991, 596, 829, 655, 333, 628, 109, 207, 367, 231, 959, 915, 101, 875, 247, 301, 34, 943, 314, 57, 918, 326, 721, 14, 509, 192, 611, 115, 167, 126, 479, 857, 275, 966, 292, 937, 848, 284, 400, 998, 685, 487, 44, 656, 939, 868, 16, 521, 496, 997, 390, 825, 168, 334, 665, 276, 755, 658, 660, 666, 255, 629, 128, 745, 335, 689, 539, 221, 239, 490, 489, 184, 27, 771, 3, 341, 336, 140, 394, 392, 603, 69, 139, 137, 56, 614, 864, 806, 818, 450, 672, 667, 351, 350, 91, 218, 573, 971, 974, 819, 820, 744, 63, 588, 729, 270, 425, 384, 118, 248, 639, 715, 758, 375, 738, 456, 401, 836, 548, 160, 225, 527, 826, 827, 545, 99, 94, 85, 620, 673, 928, 956, 42, 706, 883, 411, 146, 205, 240, 903, 800, 182, 470, 844, 983, 320, 793, 264, 647, 505, 374, 376, 949, 773, 582, 587, 520, 524, 233, 909, 50, 567, 310, 890, 212, 434, 533, 537, 466, 678, 418, 722, 37, 782, 155, 633, 968, 599, 291, 990, 190, 303, 510, 6, 696, 409, 410, 876, 242, 763, 764, 812, 76, 78, 498, 497, 460, 455, 462, 730, 731, 751, 746, 924, 28, 626, 627, 448, 574, 316, 312, 318, 975, 194, 249, 246, 254, 940, 517, 518, 344, 708, 707, 306, 437, 113, 833, 176, 912, 911, 917, 399, 403, 170, 174, 593, 598, 752, 757, 183, 188, 682, 681, 382, 383, 927, 930, 64, 62, 472, 473, 368, 363, 228, 224, 71, 70, 881, 882, 688, 690, 714, 716, 356, 357, 200, 199, 621, 619, 566, 571, 530, 531, 649, 648, 902, 905, 84, 88, 554, 555, 581, 580, 642, 641, 342, 343, 870, 874, 261, 262, 442, 443, 700, 701, 946, 945, 635, 634, 810, 809, 328, 327, 952, 955, 613, 612, 723, 725, 480, 481, 739, 737, 982, 980, 795, 794, 801, 802, 107, 108, 119, 120, 772, 774, 269, 271, 127, 129, 889, 888, 895, 896, 965, 964, 215, 214, 989, 988, 208, 206, 605, 604, 4, 996, 162, 161, 780, 781, 154, 153, 147, 145, 837, 839, 282, 283, 298, 297, 51, 54, 13, 15, 512, 511, 45, 43, 21, 22, 846, 845, 504, 503, 290, 289, 861, 862, 852, 855, 35, 33, 788, 787, 431, 430, 416, 417, 423, 424]\n"
     ]
    }
   ],
   "source": [
    "print(vaccinated)"
   ]
  },
  {
   "cell_type": "code",
   "execution_count": 4,
   "metadata": {},
   "outputs": [
    {
     "name": "stderr",
     "output_type": "stream",
     "text": [
      "100%|██████████| 1000/1000 [00:14<00:00, 69.31it/s]"
     ]
    },
    {
     "name": "stdout",
     "output_type": "stream",
     "text": [
      "6283.885496664453\n"
     ]
    },
    {
     "name": "stderr",
     "output_type": "stream",
     "text": [
      "\n"
     ]
    }
   ],
   "source": [
    "\n",
    "\n",
    "### conjugate_grad\n",
    "Gr = rx.networkx_converter(G)\n",
    "eig_start = max_ev(Gr)\n",
    "eigendrop = [0]\n",
    "cost = [0]\n",
    "n_calc=20\n",
    "A= rx.adjacency_matrix(Gr)\n",
    "l_index = list(range(N))\n",
    "score = 0\n",
    "for i in tqdm(range(0,N)):\n",
    "    node = vaccinated[i]\n",
    "    A = np.delete(A,l_index.index(node),0)\n",
    "    A = np.delete(A,l_index.index(node),1)\n",
    "    l_index.remove(node)\n",
    "    eig=0\n",
    "    for j in range(n_calc):\n",
    "        eig += max_ev(A=A)\n",
    "    eigendrop.append(eig_start-eig/n_calc)\n",
    "    score+=eig/n_calc\n",
    "    cost.append((i+1)/N)\n",
    "print(score)"
   ]
  },
  {
   "cell_type": "code",
   "execution_count": 3,
   "metadata": {},
   "outputs": [
    {
     "name": "stderr",
     "output_type": "stream",
     "text": [
      "  0%|          | 0/1000 [00:00<?, ?it/s]\\\\home\\wemaerem$\\graph_immunization\\gradient_optimization\\conjugate_gradient.py:30: RuntimeWarning: divide by zero encountered in reciprocal\n",
      "  return b_k,np.reciprocal(b_k)/1000\n",
      "100%|██████████| 1000/1000 [01:06<00:00, 14.97it/s]\n",
      "100%|██████████| 1000/1000 [00:12<00:00, 80.82it/s]"
     ]
    },
    {
     "name": "stdout",
     "output_type": "stream",
     "text": [
      "6043.095811436312\n"
     ]
    },
    {
     "name": "stderr",
     "output_type": "stream",
     "text": [
      "\n"
     ]
    }
   ],
   "source": [
    "vacc_back = conjugate_gradient_back(G,N)\n",
    "\n",
    "### conjugate_grad back\n",
    "Gr = rx.networkx_converter(G)\n",
    "eig_start = max_ev(Gr)\n",
    "eig_back = [0]\n",
    "cost = [0]\n",
    "n_calc=20\n",
    "A= rx.adjacency_matrix(Gr)\n",
    "l_index = list(range(N))\n",
    "score = 0\n",
    "for i in tqdm(range(0,N)):\n",
    "    node = vacc_back[i]\n",
    "    A = np.delete(A,l_index.index(node),0)\n",
    "    A = np.delete(A,l_index.index(node),1)\n",
    "    l_index.remove(node)\n",
    "    eig=0\n",
    "    for j in range(n_calc):\n",
    "        eig += max_ev(A=A)\n",
    "    eig_back.append(eig_start-eig/n_calc)\n",
    "    cost.append((i+1)/N)\n",
    "    score+=eig/n_calc\n",
    "\n",
    "print(score)"
   ]
  },
  {
   "cell_type": "code",
   "execution_count": null,
   "metadata": {},
   "outputs": [
    {
     "name": "stdout",
     "output_type": "stream",
     "text": [
      "780.3917703653581\n"
     ]
    }
   ],
   "source": [
    "## vacc random\n",
    "vaccinated_rd = list(range(N))\n",
    "rd.shuffle(vaccinated_rd)\n",
    "eigendrop_rd = [0]\n",
    "n_calc=20\n",
    "score=0\n",
    "for i in range(1,N+1):\n",
    "    G_i = Gr.copy()\n",
    "    G_i.remove_nodes_from(vaccinated_rd[:i])\n",
    "    eig=0\n",
    "    for j in range(n_calc):\n",
    "        eig += max_ev(G_i)\n",
    "    eigendrop_rd.append(eig_start-eig/n_calc)\n",
    "    score+=eig/n_calc\n",
    "print(score)"
   ]
  },
  {
   "cell_type": "code",
   "execution_count": null,
   "metadata": {},
   "outputs": [],
   "source": [
    "## deg centrality no recomp\n",
    "\n",
    "deg =  [node for (node, val) in sorted(G.degree(), key=lambda pair: pair[1])]\n",
    "eigendrop_deg = [0]\n",
    "n_calc=20\n",
    "for i in range(1,N+1):\n",
    "    G_i = Gr.copy()\n",
    "    G_i.remove_nodes_from(deg[:i])\n",
    "    eig=0\n",
    "    for j in range(n_calc):\n",
    "        eig += max_ev(G_i)\n",
    "    eigendrop_deg.append(eig_start-eig/n_calc)\n"
   ]
  },
  {
   "cell_type": "code",
   "execution_count": null,
   "metadata": {},
   "outputs": [],
   "source": [
    "## betweennes centrality no recomp\n",
    "\n",
    "centr = list(nx.betweenness_centrality(G).values())\n",
    "vacc_centr = np.argsort(centr)\n",
    "vacc_centr = np.flip(vacc_centr)\n",
    "\n",
    "eigendrop_cent = [0]\n",
    "n_calc=20\n",
    "for i in range(1,N+1):\n",
    "    G_i = Gr.copy()\n",
    "    G_i.remove_nodes_from(vacc_centr[:i])\n",
    "    eig=0\n",
    "    for j in range(n_calc):\n",
    "        eig += max_ev(G_i)\n",
    "    eigendrop_cent.append(eig_start-eig/n_calc)\n"
   ]
  },
  {
   "cell_type": "code",
   "execution_count": null,
   "metadata": {},
   "outputs": [
    {
     "name": "stderr",
     "output_type": "stream",
     "text": [
      "100%|██████████| 100/100 [00:00<00:00, 2019.72it/s]\n"
     ]
    },
    {
     "name": "stdout",
     "output_type": "stream",
     "text": [
      "747.8639953619645\n",
      "724.2422957084069\n"
     ]
    }
   ],
   "source": [
    "from Vaccination_select import centrality_max_recomp,deg_max\n",
    "\n",
    "vacc_centr_r=centrality_max_recomp(G,N)\n",
    "vacc_deg_r=deg_max(G,N)\n",
    "\n",
    "eigendrop_cent_r = [0]\n",
    "score = 0\n",
    "for i in range(1,N+1):\n",
    "    G_i = Gr.copy()\n",
    "    G_i.remove_nodes_from(vacc_centr_r[:i])\n",
    "    eig=0\n",
    "    for j in range(n_calc):\n",
    "        eig += max_ev(G_i)\n",
    "    score+=eig/n_calc\n",
    "    eigendrop_cent_r.append(eig_start-eig/n_calc)\n",
    "print(score)\n",
    "\n",
    "score=0\n",
    "eigendrop_deg_r = [0]\n",
    "for i in range(1,N+1):\n",
    "    G_i = Gr.copy()\n",
    "    G_i.remove_nodes_from(vacc_deg_r[:i])\n",
    "    eig=0\n",
    "    for j in range(n_calc):\n",
    "        eig += max_ev(G_i)\n",
    "    score+=eig/n_calc\n",
    "    eigendrop_deg_r.append(eig_start-eig/n_calc)\n",
    "print(score)\n",
    "\n",
    "\n"
   ]
  },
  {
   "cell_type": "code",
   "execution_count": null,
   "metadata": {},
   "outputs": [
    {
     "name": "stdout",
     "output_type": "stream",
     "text": [
      "764.8293383380828\n"
     ]
    }
   ],
   "source": [
    "## ant colony\n",
    "vacc_ant = np.load('ant_colony.npy').astype(int)\n",
    "\n",
    "score=0\n",
    "eigendrop_ant = [0]\n",
    "for i in range(1,N+1):\n",
    "    G_i = Gr.copy()\n",
    "    G_i.remove_nodes_from(vacc_ant[:i])\n",
    "    eig=0\n",
    "    for j in range(n_calc):\n",
    "        eig += max_ev(G_i)\n",
    "    score+=eig/n_calc\n",
    "    eigendrop_ant.append(eig_start-eig/n_calc)\n",
    "print(score)\n"
   ]
  },
  {
   "cell_type": "code",
   "execution_count": null,
   "metadata": {},
   "outputs": [],
   "source": [
    "\n",
    "np.save(\"ed_conj_grad_smallworld.npy\",np.array([cost,eigendrop,eigendrop_rd]))"
   ]
  },
  {
   "cell_type": "code",
   "execution_count": 5,
   "metadata": {},
   "outputs": [
    {
     "data": {
      "image/png": "[encoded data removed]",
      "text/plain": [
       "<Figure size 432x288 with 1 Axes>"
      ]
     },
     "metadata": {
      "needs_background": "light"
     },
     "output_type": "display_data"
    }
   ],
   "source": [
    "plt.figure(1)\n",
    "plt.plot(cost,eigendrop,label=\"conjugate gradient method\")\n",
    "#plt.plot(cost,eig_back,label=\"conjugate gradient back\")\n",
    "#plt.plot(cost,grad,label=\"grad of the method\")\n",
    "#plt.plot(cost,eigendrop_rd,label=\"random vaccination\")\n",
    "#plt.plot(cost,eigendrop_deg,label=\"degree centrality no recomp\")\n",
    "#plt.plot(cost,eigendrop_cent,label=\"betweenness centrality no recomp\")\n",
    "#plt.plot(cost,eigendrop_deg_r,label=\"degree centrality \")\n",
    "#plt.plot(cost,eigendrop_cent_r,label=\"betweenness centrality \")\n",
    "#plt.plot(cost,eigendrop_ant,label='ant colony')\n",
    "plt.grid()\n",
    "plt.xlabel('cost')\n",
    "plt.ylabel(\"eigendrop\")\n",
    "plt.legend()\n",
    "plt.show()"
   ]
  },
  {
   "cell_type": "code",
   "execution_count": null,
   "metadata": {},
   "outputs": [
    {
     "name": "stdout",
     "output_type": "stream",
     "text": [
      "2568\n"
     ]
    }
   ],
   "source": [
    "k=1\n",
    "for i in range(1,1001):\n",
    "    k*=i\n",
    "s =str(k)\n",
    "print(len(s))"
   ]
  }
 ],
 "metadata": {
  "interpreter": {
   "hash": "11938c6bc6919ae2720b4d5011047913343b08a43b18698fd82dedb0d4417594"
  },
  "kernelspec": {
   "display_name": "Python 3.9.13 64-bit",
   "language": "python",
   "name": "python3"
  },
  "language_info": {
   "codemirror_mode": {
    "name": "ipython",
    "version": 3
   },
   "file_extension": ".py",
   "mimetype": "text/x-python",
   "name": "python",
   "nbconvert_exporter": "python",
   "pygments_lexer": "ipython3",
   "version": "3.9.13"
  },
  "orig_nbformat": 4
 },
 "nbformat": 4,
 "nbformat_minor": 2
}
